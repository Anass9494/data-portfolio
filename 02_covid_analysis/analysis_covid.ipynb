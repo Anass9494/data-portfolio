{
 "cells": [
  {
   "cell_type": "markdown",
   "id": "a7bb4dbe",
   "metadata": {},
   "source": [
    "# COVID-19 Data Analysis\n",
    "Robust loader + quick checks and a first plot."
   ]
  },
  {
   "cell_type": "code",
   "execution_count": null,
   "id": "66a601d5",
   "metadata": {},
   "outputs": [],
   "source": [
    "# Robust data loader (works in Colab and locally)\n",
    "import pandas as pd\n",
    "\n",
    "PRIMARY = \"https://covid.ourworldindata.org/data/owid-covid-data.csv\"\n",
    "MIRROR  = \"https://raw.githubusercontent.com/owid/covid-19-data/master/public/data/owid-covid-data.csv\"\n",
    "\n",
    "def load_owid_covid():\n",
    "    for url in (MIRROR, PRIMARY):\n",
    "        try:\n",
    "            print(f\"Trying: {url}\")\n",
    "            df = pd.read_csv(url)\n",
    "            print(\"Loaded from:\", url)\n",
    "            return df\n",
    "        except Exception as e:\n",
    "            print(\"Failed:\", e)\n",
    "    try:\n",
    "        from google.colab import files\n",
    "        print(\"Upload 'owid-covid-data.csv' from your PC…\")\n",
    "        uploaded = files.upload()\n",
    "        fname = next(iter(uploaded))\n",
    "        return pd.read_csv(fname)\n",
    "    except Exception as e:\n",
    "        raise RuntimeError(\"Could not load data from web or upload.\") from e\n",
    "\n",
    "df = load_owid_covid()\n",
    "df.head()"
   ]
  },
  {
   "cell_type": "code",
   "execution_count": null,
   "id": "a70b879a",
   "metadata": {},
   "outputs": [],
   "source": [
    "# Basic cleaning / column selection\n",
    "keep = [\"iso_code\",\"continent\",\"location\",\"date\",\n",
    "        \"total_cases\",\"new_cases\",\"total_deaths\",\"new_deaths\",\n",
    "        \"people_vaccinated\",\"people_fully_vaccinated\",\"total_tests\",\"population\"]\n",
    "df = df[keep]\n",
    "df['date'] = pd.to_datetime(df['date'], errors='coerce')\n",
    "df.sort_values(['location','date'], inplace=True)\n",
    "df.info()"
   ]
  },
  {
   "cell_type": "code",
   "execution_count": null,
   "id": "db50e3fb",
   "metadata": {},
   "outputs": [],
   "source": [
    "# Example 1: Global daily new cases\n",
    "global_daily = (df.groupby('date')['new_cases']\n",
    "                  .sum(min_count=1)\n",
    "                  .fillna(0))\n",
    "\n",
    "global_daily.head()"
   ]
  },
  {
   "cell_type": "code",
   "execution_count": null,
   "id": "5043180e",
   "metadata": {},
   "outputs": [],
   "source": [
    "import matplotlib.pyplot as plt\n",
    "\n",
    "plt.figure(figsize=(10,5))\n",
    "global_daily.plot()\n",
    "plt.title(\"Global Daily New COVID-19 Cases\")\n",
    "plt.xlabel(\"Date\")\n",
    "plt.ylabel(\"New Cases\")\n",
    "plt.tight_layout()\n",
    "plt.savefig(\"covid_trends.png\", dpi=150, bbox_inches=\"tight\")\n",
    "plt.savefig(\"covid_trends.svg\", bbox_inches=\"tight\")\n",
    "plt.show()"
   ]
  },
  {
   "cell_type": "code",
   "execution_count": null,
   "id": "91d014c6",
   "metadata": {},
   "outputs": [],
   "source": [
    "# Example 2: Top 10 countries by total cases\n",
    "latest = df.dropna(subset=['total_cases']).sort_values(['location','date']).groupby('location').tail(1)\n",
    "top10 = latest.sort_values('total_cases', ascending=False).head(10)[['location','total_cases']]\n",
    "top10"
   ]
  },
  {
   "cell_type": "code",
   "execution_count": null,
   "id": "ead627ca",
   "metadata": {},
   "outputs": [],
   "source": [
    "plt.figure(figsize=(10,5))\n",
    "top10.set_index('location')['total_cases'].plot(kind='bar')\n",
    "plt.title(\"Top 10 Countries by Total Cases (latest)\")\n",
    "plt.xlabel(\"Country\")\n",
    "plt.ylabel(\"Total Cases\")\n",
    "plt.xticks(rotation=45, ha='right')\n",
    "plt.tight_layout()\n",
    "plt.savefig(\"covid_top10_total_cases.png\", dpi=150, bbox_inches=\"tight\")\n",
    "plt.savefig(\"covid_top10_total_cases.svg\", bbox_inches=\"tight\")\n",
    "plt.show()"
   ]
  }
 ],
 "metadata": {},
 "nbformat": 4,
 "nbformat_minor": 5
}
