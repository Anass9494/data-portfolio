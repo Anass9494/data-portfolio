{
 "cells": [
  {
   "cell_type": "markdown",
   "id": "64f484d4",
   "metadata": {},
   "source": [
    "# Best-Selling Products — Analysis"
   ]
  },
  {
   "cell_type": "markdown",
   "id": "f0f4bfa5",
   "metadata": {},
   "source": [
    "This notebook shows a simple end-to-end workflow: load → clean → aggregate → plot."
   ]
  },
  {
   "cell_type": "code",
   "execution_count": null,
   "id": "656f5a6c",
   "metadata": {},
   "outputs": [],
   "source": [
    "# Imports\n",
    "import pandas as pd\n",
    "import matplotlib.pyplot as plt\n",
    "from pathlib import Path\n",
    "\n",
    "DATA_PATH = Path(\"sales.csv\")\n",
    "PNG_PATH = Path(\"best_selling_chart.png\")\n",
    "SVG_PATH = Path(\"best_selling_chart.svg\")"
   ]
  },
  {
   "cell_type": "code",
   "execution_count": null,
   "id": "fa153aff",
   "metadata": {},
   "outputs": [],
   "source": [
    "# Load\n",
    "df = pd.read_csv(DATA_PATH, sep=\";\")\n",
    "df.head()"
   ]
  },
  {
   "cell_type": "code",
   "execution_count": null,
   "id": "0bc4c4f7",
   "metadata": {},
   "outputs": [],
   "source": [
    "# Clean & inspect\n",
    "df.columns = df.columns.str.strip().str.lower()\n",
    "print(\"Columns:\", list(df.columns))\n",
    "df.info()"
   ]
  },
  {
   "cell_type": "code",
   "execution_count": null,
   "id": "4f1f9989",
   "metadata": {},
   "outputs": [],
   "source": [
    "# Aggregate\n",
    "totals = df.groupby(\"product\")[\"quantity\"].sum().sort_values(ascending=False)\n",
    "totals"
   ]
  },
  {
   "cell_type": "code",
   "execution_count": null,
   "id": "40a32bda",
   "metadata": {},
   "outputs": [],
   "source": [
    "# Plot (single chart, default styles)\n",
    "plt.figure(figsize=(8, 6))\n",
    "totals.plot(kind=\"bar\")\n",
    "plt.title(\"Best-Selling Products\")\n",
    "plt.xlabel(\"Product\")\n",
    "plt.ylabel(\"Quantity Sold\")\n",
    "plt.xticks(rotation=45, ha=\"right\")\n",
    "plt.tight_layout()\n",
    "plt.savefig(PNG_PATH, dpi=150, bbox_inches=\"tight\")\n",
    "plt.savefig(SVG_PATH, bbox_inches=\"tight\")\n",
    "plt.show()\n",
    "print(\"Saved:\", PNG_PATH, \"and\", SVG_PATH)"
   ]
  },
  {
   "cell_type": "markdown",
   "id": "90b44b11",
   "metadata": {},
   "source": [
    "## Business Insight\n",
    "- Top product in demo: **Smartphone** (9 units).\n",
    "- Consider stock increase and marketing focus."
   ]
  }
 ],
 "metadata": {},
 "nbformat": 4,
 "nbformat_minor": 5
}
